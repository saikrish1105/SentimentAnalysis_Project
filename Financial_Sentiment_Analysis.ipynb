{
 "cells": [
  {
   "cell_type": "code",
   "execution_count": 38,
   "metadata": {},
   "outputs": [
    {
     "name": "stderr",
     "output_type": "stream",
     "text": [
      "[nltk_data] Downloading package punkt to\n",
      "[nltk_data]     C:\\Users\\TRIDNT\\AppData\\Roaming\\nltk_data...\n",
      "[nltk_data]   Package punkt is already up-to-date!\n",
      "[nltk_data] Downloading package stopwords to\n",
      "[nltk_data]     C:\\Users\\TRIDNT\\AppData\\Roaming\\nltk_data...\n",
      "[nltk_data]   Package stopwords is already up-to-date!\n",
      "[nltk_data] Downloading package wordnet to\n",
      "[nltk_data]     C:\\Users\\TRIDNT\\AppData\\Roaming\\nltk_data...\n",
      "[nltk_data]   Package wordnet is already up-to-date!\n"
     ]
    }
   ],
   "source": [
    "import numpy as np\n",
    "import pandas as pd\n",
    "import seaborn as sns\n",
    "import matplotlib.pyplot as plt\n",
    "\n",
    "import tensorflow as tf\n",
    "from tensorflow.keras.models import Model,Sequential\n",
    "from tensorflow.keras.layers import Input, Dense, BatchNormalization,Dropout\n",
    "from tensorflow.keras.layers import Activation\n",
    "\n",
    "from sklearn.feature_extraction.text import CountVectorizer\n",
    "from sklearn.feature_extraction.text import TfidfVectorizer\n",
    "from sklearn.preprocessing import LabelEncoder\n",
    "\n",
    "from bs4 import BeautifulSoup\n",
    "import re,string,unicodedata\n",
    "\n",
    "import nltk\n",
    "from nltk.corpus import stopwords\n",
    "from nltk.stem.porter import PorterStemmer\n",
    "from nltk.stem import WordNetLemmatizer\n",
    "from nltk.tokenize import word_tokenize,sent_tokenize\n",
    "nltk.download('punkt')\n",
    "nltk.download('stopwords')\n",
    "nltk.download('wordnet')\n",
    "\n",
    "from nltk.tokenize.toktok import ToktokTokenizer\n",
    "from nltk.stem import LancasterStemmer,WordNetLemmatizer\n",
    "from sklearn.linear_model import LogisticRegression,SGDClassifier\n",
    "from sklearn.naive_bayes import MultinomialNB\n",
    "from sklearn.svm import SVC\n",
    "from sklearn.metrics import classification_report,confusion_matrix,accuracy_score\n",
    "from sklearn.model_selection import train_test_split\n",
    "from string import punctuation\n",
    "from nltk import pos_tag\n",
    "from nltk.corpus import wordnet\n",
    "import keras\n",
    "from keras.layers import Dense,LSTM,BatchNormalization\n",
    "from keras.models import Sequential"
   ]
  },
  {
   "cell_type": "markdown",
   "metadata": {},
   "source": [
    "### Data Viewing And Analysing"
   ]
  },
  {
   "cell_type": "code",
   "execution_count": 96,
   "metadata": {},
   "outputs": [],
   "source": [
    "raw_data = pd.read_csv(r\"C:\\Users\\TRIDNT\\Documents\\Codes_and_Stuff\\Datasets\\socialmedia-disaster-tweets-DFE.csv\",encoding='latin1')"
   ]
  },
  {
   "cell_type": "code",
   "execution_count": 97,
   "metadata": {},
   "outputs": [
    {
     "data": {
      "text/html": [
       "<div>\n",
       "<style scoped>\n",
       "    .dataframe tbody tr th:only-of-type {\n",
       "        vertical-align: middle;\n",
       "    }\n",
       "\n",
       "    .dataframe tbody tr th {\n",
       "        vertical-align: top;\n",
       "    }\n",
       "\n",
       "    .dataframe thead th {\n",
       "        text-align: right;\n",
       "    }\n",
       "</style>\n",
       "<table border=\"1\" class=\"dataframe\">\n",
       "  <thead>\n",
       "    <tr style=\"text-align: right;\">\n",
       "      <th></th>\n",
       "      <th>_unit_id</th>\n",
       "      <th>_golden</th>\n",
       "      <th>_unit_state</th>\n",
       "      <th>_trusted_judgments</th>\n",
       "      <th>_last_judgment_at</th>\n",
       "      <th>choose_one</th>\n",
       "      <th>choose_one:confidence</th>\n",
       "      <th>choose_one_gold</th>\n",
       "      <th>keyword</th>\n",
       "      <th>location</th>\n",
       "      <th>text</th>\n",
       "      <th>tweetid</th>\n",
       "      <th>userid</th>\n",
       "    </tr>\n",
       "  </thead>\n",
       "  <tbody>\n",
       "    <tr>\n",
       "      <th>0</th>\n",
       "      <td>778243823</td>\n",
       "      <td>True</td>\n",
       "      <td>golden</td>\n",
       "      <td>156</td>\n",
       "      <td>NaN</td>\n",
       "      <td>Relevant</td>\n",
       "      <td>1.0000</td>\n",
       "      <td>Relevant</td>\n",
       "      <td>NaN</td>\n",
       "      <td>NaN</td>\n",
       "      <td>Just happened a terrible car crash</td>\n",
       "      <td>1.0</td>\n",
       "      <td>NaN</td>\n",
       "    </tr>\n",
       "    <tr>\n",
       "      <th>1</th>\n",
       "      <td>778243824</td>\n",
       "      <td>True</td>\n",
       "      <td>golden</td>\n",
       "      <td>152</td>\n",
       "      <td>NaN</td>\n",
       "      <td>Relevant</td>\n",
       "      <td>1.0000</td>\n",
       "      <td>Relevant</td>\n",
       "      <td>NaN</td>\n",
       "      <td>NaN</td>\n",
       "      <td>Our Deeds are the Reason of this #earthquake M...</td>\n",
       "      <td>13.0</td>\n",
       "      <td>NaN</td>\n",
       "    </tr>\n",
       "    <tr>\n",
       "      <th>2</th>\n",
       "      <td>778243825</td>\n",
       "      <td>True</td>\n",
       "      <td>golden</td>\n",
       "      <td>137</td>\n",
       "      <td>NaN</td>\n",
       "      <td>Relevant</td>\n",
       "      <td>1.0000</td>\n",
       "      <td>Relevant</td>\n",
       "      <td>NaN</td>\n",
       "      <td>NaN</td>\n",
       "      <td>Heard about #earthquake is different cities, s...</td>\n",
       "      <td>14.0</td>\n",
       "      <td>NaN</td>\n",
       "    </tr>\n",
       "    <tr>\n",
       "      <th>3</th>\n",
       "      <td>778243826</td>\n",
       "      <td>True</td>\n",
       "      <td>golden</td>\n",
       "      <td>136</td>\n",
       "      <td>NaN</td>\n",
       "      <td>Relevant</td>\n",
       "      <td>0.9603</td>\n",
       "      <td>Relevant</td>\n",
       "      <td>NaN</td>\n",
       "      <td>NaN</td>\n",
       "      <td>there is a forest fire at spot pond, geese are...</td>\n",
       "      <td>15.0</td>\n",
       "      <td>NaN</td>\n",
       "    </tr>\n",
       "    <tr>\n",
       "      <th>4</th>\n",
       "      <td>778243827</td>\n",
       "      <td>True</td>\n",
       "      <td>golden</td>\n",
       "      <td>138</td>\n",
       "      <td>NaN</td>\n",
       "      <td>Relevant</td>\n",
       "      <td>1.0000</td>\n",
       "      <td>Relevant</td>\n",
       "      <td>NaN</td>\n",
       "      <td>NaN</td>\n",
       "      <td>Forest fire near La Ronge Sask. Canada</td>\n",
       "      <td>16.0</td>\n",
       "      <td>NaN</td>\n",
       "    </tr>\n",
       "  </tbody>\n",
       "</table>\n",
       "</div>"
      ],
      "text/plain": [
       "    _unit_id  _golden _unit_state  _trusted_judgments _last_judgment_at  \\\n",
       "0  778243823     True      golden                 156               NaN   \n",
       "1  778243824     True      golden                 152               NaN   \n",
       "2  778243825     True      golden                 137               NaN   \n",
       "3  778243826     True      golden                 136               NaN   \n",
       "4  778243827     True      golden                 138               NaN   \n",
       "\n",
       "  choose_one  choose_one:confidence choose_one_gold keyword location  \\\n",
       "0   Relevant                 1.0000        Relevant     NaN      NaN   \n",
       "1   Relevant                 1.0000        Relevant     NaN      NaN   \n",
       "2   Relevant                 1.0000        Relevant     NaN      NaN   \n",
       "3   Relevant                 0.9603        Relevant     NaN      NaN   \n",
       "4   Relevant                 1.0000        Relevant     NaN      NaN   \n",
       "\n",
       "                                                text  tweetid  userid  \n",
       "0                 Just happened a terrible car crash      1.0     NaN  \n",
       "1  Our Deeds are the Reason of this #earthquake M...     13.0     NaN  \n",
       "2  Heard about #earthquake is different cities, s...     14.0     NaN  \n",
       "3  there is a forest fire at spot pond, geese are...     15.0     NaN  \n",
       "4             Forest fire near La Ronge Sask. Canada     16.0     NaN  "
      ]
     },
     "execution_count": 97,
     "metadata": {},
     "output_type": "execute_result"
    }
   ],
   "source": [
    "df = raw_data.copy()\n",
    "df.head()"
   ]
  },
  {
   "cell_type": "code",
   "execution_count": 98,
   "metadata": {},
   "outputs": [
    {
     "data": {
      "text/plain": [
       "choose_one\n",
       "Not Relevant    6187\n",
       "Relevant        4673\n",
       "Can't Decide      16\n",
       "Name: count, dtype: int64"
      ]
     },
     "execution_count": 98,
     "metadata": {},
     "output_type": "execute_result"
    }
   ],
   "source": [
    "df['choose_one'].value_counts()\n",
    "# we see that the relevant and non relevant or not equal. Also the can't decide are unnecesary for us so we remove it"
   ]
  },
  {
   "cell_type": "markdown",
   "metadata": {},
   "source": [
    "### Data Pre Processing"
   ]
  },
  {
   "cell_type": "code",
   "execution_count": 99,
   "metadata": {},
   "outputs": [
    {
     "name": "stdout",
     "output_type": "stream",
     "text": [
      "(6187, 13)\n",
      "(4673, 13)\n"
     ]
    },
    {
     "data": {
      "text/plain": [
       "choose_one\n",
       "Not Relevant    4673\n",
       "Relevant        4673\n",
       "Name: count, dtype: int64"
      ]
     },
     "execution_count": 99,
     "metadata": {},
     "output_type": "execute_result"
    }
   ],
   "source": [
    "# Drop rows where the value in 'choose_one' column is \"Can't Decide\"\n",
    "cleaned_df = df.copy()\n",
    "cleaned_df = cleaned_df[cleaned_df['choose_one'] != \"Can't Decide\"]\n",
    "\n",
    "# Reset the index after dropping the rows\n",
    "cleaned_df.reset_index(drop=True, inplace=True)\n",
    "\n",
    "cleaned_df_NRel = cleaned_df[cleaned_df['choose_one']=='Not Relevant']\n",
    "print(cleaned_df_NRel.shape)\n",
    "cleaned_df_Rel = cleaned_df[cleaned_df['choose_one']=='Relevant']\n",
    "print(cleaned_df_Rel.shape)\n",
    "\n",
    "cleaned_df_NRel_down = cleaned_df_NRel.sample(cleaned_df_Rel.shape[0])\n",
    "\n",
    "cleaned_balanced_df = pd.concat([cleaned_df_NRel_down,cleaned_df_Rel])\n",
    "# The values are balanced now\n",
    "cleaned_balanced_df['choose_one'].value_counts()"
   ]
  },
  {
   "cell_type": "code",
   "execution_count": 100,
   "metadata": {},
   "outputs": [
    {
     "name": "stderr",
     "output_type": "stream",
     "text": [
      "C:\\Users\\TRIDNT\\AppData\\Local\\Temp\\ipykernel_25760\\1620854688.py:3: SettingWithCopyWarning: \n",
      "A value is trying to be set on a copy of a slice from a DataFrame.\n",
      "Try using .loc[row_indexer,col_indexer] = value instead\n",
      "\n",
      "See the caveats in the documentation: https://pandas.pydata.org/pandas-docs/stable/user_guide/indexing.html#returning-a-view-versus-a-copy\n",
      "  data['choose_one'] = LabelEncoder().fit_transform(data['choose_one'])\n"
     ]
    }
   ],
   "source": [
    "# take only the sentiment and text column which is of use to us and then encode relevant to 1 and non relavant to 0\n",
    "data = cleaned_balanced_df[['choose_one','text']]\n",
    "data['choose_one'] = LabelEncoder().fit_transform(data['choose_one'])"
   ]
  },
  {
   "cell_type": "markdown",
   "metadata": {},
   "source": [
    "### Text Pre Processing"
   ]
  },
  {
   "cell_type": "code",
   "execution_count": 101,
   "metadata": {},
   "outputs": [],
   "source": [
    "trial_data = data.copy()"
   ]
  },
  {
   "cell_type": "code",
   "execution_count": 102,
   "metadata": {},
   "outputs": [],
   "source": [
    "def text_preprocessing(text):\n",
    "    # Clean text\n",
    "    text = re.sub(r'<.*?>', '', text)\n",
    "    text = re.sub(r'[^A-Za-z0-9\\s]', '', text)\n",
    "    text = re.sub(r'\\s+', ' ', text).strip()\n",
    "\n",
    "    # Lowercase and tokenize\n",
    "    text = text.lower()\n",
    "    tokens = nltk.tokenize.word_tokenize(text)\n",
    "\n",
    "    # Remove stop words\n",
    "    stop_words = set(stopwords.words('english'))\n",
    "    filtered_tokens = [token for token in tokens if token not in stop_words]\n",
    "\n",
    "    # Stem and lemmatize\n",
    "    stemmer = PorterStemmer()\n",
    "    lemmatizer = WordNetLemmatizer()\n",
    "    stemmed_tokens = [stemmer.stem(token) for token in filtered_tokens]\n",
    "    lemmatized_tokens = [lemmatizer.lemmatize(token) for token in stemmed_tokens]\n",
    "\n",
    "    return ' '.join(lemmatized_tokens)  # Join tokens back into a single string"
   ]
  },
  {
   "cell_type": "code",
   "execution_count": 103,
   "metadata": {},
   "outputs": [
    {
     "data": {
      "text/html": [
       "<div>\n",
       "<style scoped>\n",
       "    .dataframe tbody tr th:only-of-type {\n",
       "        vertical-align: middle;\n",
       "    }\n",
       "\n",
       "    .dataframe tbody tr th {\n",
       "        vertical-align: top;\n",
       "    }\n",
       "\n",
       "    .dataframe thead th {\n",
       "        text-align: right;\n",
       "    }\n",
       "</style>\n",
       "<table border=\"1\" class=\"dataframe\">\n",
       "  <thead>\n",
       "    <tr style=\"text-align: right;\">\n",
       "      <th></th>\n",
       "      <th>choose_one</th>\n",
       "      <th>text</th>\n",
       "    </tr>\n",
       "  </thead>\n",
       "  <tbody>\n",
       "    <tr>\n",
       "      <th>2696</th>\n",
       "      <td>0</td>\n",
       "      <td>crush</td>\n",
       "    </tr>\n",
       "    <tr>\n",
       "      <th>2137</th>\n",
       "      <td>0</td>\n",
       "      <td>oh god that biggest gbbo catastroph ever seen ...</td>\n",
       "    </tr>\n",
       "    <tr>\n",
       "      <th>6572</th>\n",
       "      <td>0</td>\n",
       "      <td>laoi girl advertis new friend replac lovedup b...</td>\n",
       "    </tr>\n",
       "    <tr>\n",
       "      <th>1126</th>\n",
       "      <td>0</td>\n",
       "      <td>reason player ego caus mw3 cod champ that espo...</td>\n",
       "    </tr>\n",
       "    <tr>\n",
       "      <th>5636</th>\n",
       "      <td>0</td>\n",
       "      <td>popmech anoth tweet doubl post within 4 hr flo...</td>\n",
       "    </tr>\n",
       "  </tbody>\n",
       "</table>\n",
       "</div>"
      ],
      "text/plain": [
       "      choose_one                                               text\n",
       "2696           0                                              crush\n",
       "2137           0  oh god that biggest gbbo catastroph ever seen ...\n",
       "6572           0  laoi girl advertis new friend replac lovedup b...\n",
       "1126           0  reason player ego caus mw3 cod champ that espo...\n",
       "5636           0  popmech anoth tweet doubl post within 4 hr flo..."
      ]
     },
     "execution_count": 103,
     "metadata": {},
     "output_type": "execute_result"
    }
   ],
   "source": [
    "trial_data['text'] = trial_data['text'].apply(text_preprocessing)\n",
    "trial_data.head()"
   ]
  },
  {
   "cell_type": "markdown",
   "metadata": {},
   "source": [
    "### Split into Train and Test Data"
   ]
  },
  {
   "cell_type": "code",
   "execution_count": 104,
   "metadata": {},
   "outputs": [
    {
     "name": "stdout",
     "output_type": "stream",
     "text": [
      "Training Shape:(1869,)\n",
      "Test Shape:(7477,)\n"
     ]
    }
   ],
   "source": [
    "from sklearn.feature_extraction.text import TfidfVectorizer\n",
    "from sklearn.model_selection import train_test_split\n",
    "\n",
    "X,Y = trial_data['text'],trial_data['choose_one']\n",
    "x_train, x_test, y_train, y_test = train_test_split(X, Y, train_size = 0.2, random_state = 43)\n",
    "print(f\"Training Shape:{x_train.shape}\\nTest Shape:{x_test.shape}\")"
   ]
  },
  {
   "cell_type": "markdown",
   "metadata": {},
   "source": [
    "#### Let us now create two different types of word converters - tfidf and countvectorizer"
   ]
  },
  {
   "cell_type": "code",
   "execution_count": 105,
   "metadata": {},
   "outputs": [
    {
     "name": "stdout",
     "output_type": "stream",
     "text": [
      "tfidf_train: (1869, 7117)\n",
      "tfidf_test: (7477, 7117)\n"
     ]
    }
   ],
   "source": [
    "tfidf = TfidfVectorizer()\n",
    "\n",
    "X_train_tfidf = tfidf.fit_transform(x_train)\n",
    "X_test_tfidf = tfidf.transform(x_test)\n",
    "\n",
    "print('tfidf_train:',X_train_tfidf.shape)\n",
    "print('tfidf_test:',X_test_tfidf.shape)\n",
    "\n",
    "# cv=CountVectorizer(max_df=1,binary=False,ngram_range=(1,1))\n",
    "\n",
    "# cv_train_reviews=cv.fit_transform(x_train)\n",
    "# cv_test_reviews=cv.transform(x_test)\n",
    "\n",
    "# print('BOW_cv_train:',cv_train_reviews.shape)\n",
    "# print('BOW_cv_test:',cv_test_reviews.shape)\n",
    "\n",
    "# Cv has very bad accuracy with this dataset with aroudn 50% only"
   ]
  },
  {
   "cell_type": "markdown",
   "metadata": {},
   "source": [
    "### Create the Nueral Network Model\n"
   ]
  },
  {
   "cell_type": "code",
   "execution_count": 128,
   "metadata": {},
   "outputs": [],
   "source": [
    "def model(x_train,x_test,y_train,y_test):\n",
    "    NN_Model = Sequential([\n",
    "    Dense(64, activation='relu', input_shape=(x_train.shape[1],)),\n",
    "    BatchNormalization(),\n",
    "    Dropout(0.5),\n",
    "    Dense(32, activation='relu'),\n",
    "    BatchNormalization(),\n",
    "    Dropout(0.5),\n",
    "    Dense(16, activation='relu'),\n",
    "    BatchNormalization(),\n",
    "    Dropout(0.5),\n",
    "    Dense(8, activation='relu'),\n",
    "    BatchNormalization(),\n",
    "    Dropout(0.5),\n",
    "    Dense(1, activation='sigmoid')\n",
    "    ])\n",
    "    NN_Model.compile(optimizer=tf.optimizers.Adam(0.01), loss='binary_crossentropy', metrics=[tf.keras.metrics.TrueNegatives(),tf.keras.metrics.TruePositives(),tf.keras.metrics.FalseNegatives(),tf.keras.metrics.FalsePositives()])\n",
    "    from scipy.sparse import issparse\n",
    "\n",
    "    # Check if the input data is sparse and convert it to a dense array if necessary\n",
    "    if issparse(x_train):\n",
    "        x_train = x_train.toarray()\n",
    "    if issparse(x_test):\n",
    "        x_test = x_test.toarray()\n",
    "\n",
    "    NN_Model.fit(x_train, y_train, epochs=15, batch_size=32, validation_data=(x_test, y_test))\n",
    "\n",
    "    print(NN_Model.evaluate(x_test,y_test))\n",
    "\n",
    "    Y_pred = NN_Model.predict(x_test)\n",
    "    y_pred_final = y_pred_final = (Y_pred > 0.5).astype(int).flatten()\n",
    "\n",
    "    from sklearn.metrics import confusion_matrix, classification_report\n",
    "    cm = confusion_matrix(y_test, y_pred_final)\n",
    "    from matplotlib import pyplot as plt\n",
    "    import seaborn as sn\n",
    "    sn.heatmap(cm, annot=True, fmt='d')\n",
    "    plt.xlabel('Predicted')\n",
    "    plt.ylabel('Truth')"
   ]
  },
  {
   "cell_type": "code",
   "execution_count": 129,
   "metadata": {},
   "outputs": [
    {
     "name": "stderr",
     "output_type": "stream",
     "text": [
      "C:\\Users\\TRIDNT\\AppData\\Local\\Packages\\PythonSoftwareFoundation.Python.3.9_qbz5n2kfra8p0\\LocalCache\\local-packages\\Python39\\site-packages\\keras\\src\\layers\\core\\dense.py:87: UserWarning: Do not pass an `input_shape`/`input_dim` argument to a layer. When using Sequential models, prefer using an `Input(shape)` object as the first layer in the model instead.\n",
      "  super().__init__(activity_regularizer=activity_regularizer, **kwargs)\n"
     ]
    },
    {
     "name": "stdout",
     "output_type": "stream",
     "text": [
      "Epoch 1/15\n",
      "\u001b[1m59/59\u001b[0m \u001b[32m━━━━━━━━━━━━━━━━━━━━\u001b[0m\u001b[37m\u001b[0m \u001b[1m4s\u001b[0m 20ms/step - false_negatives_2: 274.6167 - false_positives_2: 224.4167 - loss: 0.8356 - true_negatives_8: 277.6167 - true_positives_11: 198.1833 - val_false_negatives_2: 3772.0000 - val_false_positives_2: 0.0000e+00 - val_loss: 0.6962 - val_true_negatives_8: 3705.0000 - val_true_positives_11: 0.0000e+00\n",
      "Epoch 2/15\n",
      "\u001b[1m59/59\u001b[0m \u001b[32m━━━━━━━━━━━━━━━━━━━━\u001b[0m\u001b[37m\u001b[0m \u001b[1m1s\u001b[0m 11ms/step - false_negatives_2: 309.1667 - false_positives_2: 134.7500 - loss: 0.6936 - true_negatives_8: 374.3000 - true_positives_11: 156.6167 - val_false_negatives_2: 3771.0000 - val_false_positives_2: 0.0000e+00 - val_loss: 0.6935 - val_true_negatives_8: 3705.0000 - val_true_positives_11: 1.0000\n",
      "Epoch 3/15\n",
      "\u001b[1m59/59\u001b[0m \u001b[32m━━━━━━━━━━━━━━━━━━━━\u001b[0m\u001b[37m\u001b[0m \u001b[1m1s\u001b[0m 12ms/step - false_negatives_2: 295.9333 - false_positives_2: 120.0833 - loss: 0.6819 - true_negatives_8: 386.2333 - true_positives_11: 172.5833 - val_false_negatives_2: 3722.0000 - val_false_positives_2: 6.0000 - val_loss: 0.6958 - val_true_negatives_8: 3699.0000 - val_true_positives_11: 50.0000\n",
      "Epoch 4/15\n",
      "\u001b[1m59/59\u001b[0m \u001b[32m━━━━━━━━━━━━━━━━━━━━\u001b[0m\u001b[37m\u001b[0m \u001b[1m1s\u001b[0m 11ms/step - false_negatives_2: 254.2333 - false_positives_2: 121.9000 - loss: 0.6561 - true_negatives_8: 379.3500 - true_positives_11: 219.3500 - val_false_negatives_2: 2243.0000 - val_false_positives_2: 254.0000 - val_loss: 0.6485 - val_true_negatives_8: 3451.0000 - val_true_positives_11: 1529.0000\n",
      "Epoch 5/15\n",
      "\u001b[1m59/59\u001b[0m \u001b[32m━━━━━━━━━━━━━━━━━━━━\u001b[0m\u001b[37m\u001b[0m \u001b[1m1s\u001b[0m 11ms/step - false_negatives_2: 201.6500 - false_positives_2: 105.8000 - loss: 0.6104 - true_negatives_8: 394.5000 - true_positives_11: 272.8833 - val_false_negatives_2: 1659.0000 - val_false_positives_2: 476.0000 - val_loss: 0.5735 - val_true_negatives_8: 3229.0000 - val_true_positives_11: 2113.0000\n",
      "Epoch 6/15\n",
      "\u001b[1m59/59\u001b[0m \u001b[32m━━━━━━━━━━━━━━━━━━━━\u001b[0m\u001b[37m\u001b[0m \u001b[1m1s\u001b[0m 11ms/step - false_negatives_2: 140.7167 - false_positives_2: 90.1667 - loss: 0.5178 - true_negatives_8: 404.5333 - true_positives_11: 339.4167 - val_false_negatives_2: 1628.0000 - val_false_positives_2: 418.0000 - val_loss: 0.5639 - val_true_negatives_8: 3287.0000 - val_true_positives_11: 2144.0000\n",
      "Epoch 7/15\n",
      "\u001b[1m59/59\u001b[0m \u001b[32m━━━━━━━━━━━━━━━━━━━━\u001b[0m\u001b[37m\u001b[0m \u001b[1m1s\u001b[0m 11ms/step - false_negatives_2: 107.2500 - false_positives_2: 66.8167 - loss: 0.4312 - true_negatives_8: 427.0667 - true_positives_11: 373.7000 - val_false_negatives_2: 1122.0000 - val_false_positives_2: 808.0000 - val_loss: 0.5798 - val_true_negatives_8: 2897.0000 - val_true_positives_11: 2650.0000\n",
      "Epoch 8/15\n",
      "\u001b[1m59/59\u001b[0m \u001b[32m━━━━━━━━━━━━━━━━━━━━\u001b[0m\u001b[37m\u001b[0m \u001b[1m1s\u001b[0m 11ms/step - false_negatives_2: 91.1167 - false_positives_2: 57.0667 - loss: 0.3957 - true_negatives_8: 447.6000 - true_positives_11: 379.0500 - val_false_negatives_2: 1077.0000 - val_false_positives_2: 870.0000 - val_loss: 0.6494 - val_true_negatives_8: 2835.0000 - val_true_positives_11: 2695.0000\n",
      "Epoch 9/15\n",
      "\u001b[1m59/59\u001b[0m \u001b[32m━━━━━━━━━━━━━━━━━━━━\u001b[0m\u001b[37m\u001b[0m \u001b[1m1s\u001b[0m 10ms/step - false_negatives_2: 58.5500 - false_positives_2: 42.8167 - loss: 0.3039 - true_negatives_8: 457.7833 - true_positives_11: 415.6833 - val_false_negatives_2: 1129.0000 - val_false_positives_2: 852.0000 - val_loss: 0.7296 - val_true_negatives_8: 2853.0000 - val_true_positives_11: 2643.0000\n",
      "Epoch 10/15\n",
      "\u001b[1m59/59\u001b[0m \u001b[32m━━━━━━━━━━━━━━━━━━━━\u001b[0m\u001b[37m\u001b[0m \u001b[1m1s\u001b[0m 11ms/step - false_negatives_2: 48.2667 - false_positives_2: 44.0333 - loss: 0.2673 - true_negatives_8: 466.7500 - true_positives_11: 415.7833 - val_false_negatives_2: 966.0000 - val_false_positives_2: 1068.0000 - val_loss: 0.7785 - val_true_negatives_8: 2637.0000 - val_true_positives_11: 2806.0000\n",
      "Epoch 11/15\n",
      "\u001b[1m59/59\u001b[0m \u001b[32m━━━━━━━━━━━━━━━━━━━━\u001b[0m\u001b[37m\u001b[0m \u001b[1m1s\u001b[0m 11ms/step - false_negatives_2: 38.3167 - false_positives_2: 39.5167 - loss: 0.2345 - true_negatives_8: 464.7000 - true_positives_11: 432.3000 - val_false_negatives_2: 1303.0000 - val_false_positives_2: 655.0000 - val_loss: 0.7146 - val_true_negatives_8: 3050.0000 - val_true_positives_11: 2469.0000\n",
      "Epoch 12/15\n",
      "\u001b[1m59/59\u001b[0m \u001b[32m━━━━━━━━━━━━━━━━━━━━\u001b[0m\u001b[37m\u001b[0m \u001b[1m1s\u001b[0m 11ms/step - false_negatives_2: 44.0500 - false_positives_2: 28.2667 - loss: 0.2223 - true_negatives_8: 477.1333 - true_positives_11: 425.3833 - val_false_negatives_2: 1106.0000 - val_false_positives_2: 858.0000 - val_loss: 0.8579 - val_true_negatives_8: 2847.0000 - val_true_positives_11: 2666.0000\n",
      "Epoch 13/15\n",
      "\u001b[1m59/59\u001b[0m \u001b[32m━━━━━━━━━━━━━━━━━━━━\u001b[0m\u001b[37m\u001b[0m \u001b[1m1s\u001b[0m 11ms/step - false_negatives_2: 28.1500 - false_positives_2: 25.9000 - loss: 0.1835 - true_negatives_8: 479.0500 - true_positives_11: 441.7333 - val_false_negatives_2: 1076.0000 - val_false_positives_2: 926.0000 - val_loss: 0.8778 - val_true_negatives_8: 2779.0000 - val_true_positives_11: 2696.0000\n",
      "Epoch 14/15\n",
      "\u001b[1m59/59\u001b[0m \u001b[32m━━━━━━━━━━━━━━━━━━━━\u001b[0m\u001b[37m\u001b[0m \u001b[1m1s\u001b[0m 11ms/step - false_negatives_2: 33.5167 - false_positives_2: 35.4167 - loss: 0.2119 - true_negatives_8: 476.3500 - true_positives_11: 429.5500 - val_false_negatives_2: 793.0000 - val_false_positives_2: 1338.0000 - val_loss: 0.8306 - val_true_negatives_8: 2367.0000 - val_true_positives_11: 2979.0000\n",
      "Epoch 15/15\n",
      "\u001b[1m59/59\u001b[0m \u001b[32m━━━━━━━━━━━━━━━━━━━━\u001b[0m\u001b[37m\u001b[0m \u001b[1m1s\u001b[0m 12ms/step - false_negatives_2: 27.1000 - false_positives_2: 35.1000 - loss: 0.1909 - true_negatives_8: 463.4333 - true_positives_11: 449.2000 - val_false_negatives_2: 1202.0000 - val_false_positives_2: 812.0000 - val_loss: 0.8420 - val_true_negatives_8: 2893.0000 - val_true_positives_11: 2570.0000\n",
      "\u001b[1m234/234\u001b[0m \u001b[32m━━━━━━━━━━━━━━━━━━━━\u001b[0m\u001b[37m\u001b[0m \u001b[1m0s\u001b[0m 2ms/step - false_negatives_2: 597.6553 - false_positives_2: 399.0128 - loss: 0.8345 - true_negatives_8: 1467.8809 - true_positives_11: 1311.2213\n",
      "[0.8419574499130249, 2893.0, 2570.0, 1202.0, 812.0]\n",
      "\u001b[1m234/234\u001b[0m \u001b[32m━━━━━━━━━━━━━━━━━━━━\u001b[0m\u001b[37m\u001b[0m \u001b[1m0s\u001b[0m 2ms/step\n"
     ]
    },
    {
     "data": {
      "image/png": "[encoded data removed]",
      "text/plain": [
       "<Figure size 640x480 with 2 Axes>"
      ]
     },
     "metadata": {},
     "output_type": "display_data"
    }
   ],
   "source": [
    "model(X_train_tfidf,X_test_tfidf,y_train, y_test)\n",
    "# model(cv_train_reviews,cv_test_reviews,y_train, y_test)"
   ]
  },
  {
   "cell_type": "markdown",
   "metadata": {},
   "source": [
    "### Ok the so final accuracy I'm getting with this datset is around 73%... i have tried various methods and I am not able to achieve a better accuracy so this is it I Guess : Final Accuracy = 73.4%"
   ]
  }
 ],
 "metadata": {
  "kernelspec": {
   "display_name": "Python 3",
   "language": "python",
   "name": "python3"
  },
  "language_info": {
   "codemirror_mode": {
    "name": "ipython",
    "version": 3
   },
   "file_extension": ".py",
   "mimetype": "text/x-python",
   "name": "python",
   "nbconvert_exporter": "python",
   "pygments_lexer": "ipython3",
   "version": "3.9.13"
  }
 },
 "nbformat": 4,
 "nbformat_minor": 2
}
